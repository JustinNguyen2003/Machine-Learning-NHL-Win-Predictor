{
 "cells": [
  {
   "cell_type": "markdown",
   "id": "f06cc549-73bd-4112-a6a3-ff1bb3792844",
   "metadata": {},
   "source": [
    "# NHL WIN PREDICTION MACHINE LEARNING MODEL"
   ]
  },
  {
   "cell_type": "markdown",
   "id": "400ac6b6-e700-4c16-8fb8-1b94ff3e8545",
   "metadata": {},
   "source": [
    "### The Objective: \n",
    "The best NHL Win prediction machine learning models out there currently sit around a ~70% correct rate. The goal of this model is to get close to this percentage."
   ]
  },
  {
   "cell_type": "markdown",
   "id": "7b4c93d5-f609-4c87-bcfa-92f1f433c7d0",
   "metadata": {},
   "source": [
    "### Choosing the Model:\n",
    "There are many different machine learning models we could use in this situation. For this model, I will be implementing a Linear Regression Model and a Random Forest Model. "
   ]
  },
  {
   "cell_type": "markdown",
   "id": "5625e54b-e244-4256-b2dc-b2a89f7fc4e1",
   "metadata": {},
   "source": [
    "### Selecting the Stats: \n",
    "There are many different advanced NHL stats available today. For this model, I will be using 2 groups of stats. I will be using stats from the last 10 games as well as stats from the last 40 games. The last 40 games will give a greater overview of the team as a whole. Factors such as playstyle, coaching philosophies, and general strengths and weaknesses will be highlighted in these stats. The last 10 games will highlight streakiness, recent coaching/player changes, and who's hot. I believe a combination of the 2 will make for the best overall representation of a team for my model.\n",
    "\n",
    "#### Team Stats:\n",
    "- Goals For per Game\n",
    "- Goals Against per Game\n",
    "- Power Play %\n",
    "- Penalty Kill %\n",
    "- Expected Goals For per Game (per 60)\n",
    "- Expected Goals Against per Game (per 60)\n",
    "\n",
    "#### Goalie Stats (Starter):\n",
    "- SV %\n",
    "- GAA\n",
    "- Expected Goals Against per Game (per 60)\n",
    "\n",
    "#### Skater Stats:\n",
    "Skater stats are a bit more complicated than Team Stats and Goalie Stats because there are so many more skaters on each team and each skater doesn't have the same impact as each other. To combat this I will be applying a weight to each starting skater's stats (minutes/game) and getting a team average of all the starting skaters."
   ]
  },
  {
   "cell_type": "code",
   "execution_count": 9,
   "id": "6a17c4db-1790-4c7e-a91b-b54f14aaee25",
   "metadata": {},
   "outputs": [],
   "source": [
    "import numpy as np\n",
    "import matplotlib.pyplot as plt\n",
    "import pandas as pd\n"
   ]
  }
 ],
 "metadata": {
  "kernelspec": {
   "display_name": "Python 3 (ipykernel)",
   "language": "python",
   "name": "python3"
  },
  "language_info": {
   "codemirror_mode": {
    "name": "ipython",
    "version": 3
   },
   "file_extension": ".py",
   "mimetype": "text/x-python",
   "name": "python",
   "nbconvert_exporter": "python",
   "pygments_lexer": "ipython3",
   "version": "3.11.7"
  }
 },
 "nbformat": 4,
 "nbformat_minor": 5
}
